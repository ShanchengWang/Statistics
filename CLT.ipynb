{
 "cells": [
  {
   "cell_type": "markdown",
   "metadata": {},
   "source": [
    "# The central limit theorem\n",
    "\n",
    "The Gaussian (or normal) distribution takes two input parameters - the mean $\\mu$ and variance $\\sigma^2$, and has the following form:\n",
    "$$ P(x \\,|\\, \\mu, \\sigma^2) = \\frac{1}{\\sqrt{2\\pi\\sigma^2}} \\exp{\\Big[-\\frac{(x-\\mu)^2}{2\\sigma^2}\\Big]} $$\n",
    "\n",
    "The central limit theorem (CLT) states that:\n",
    "*The sum of a large number of independent random variables, each with finite mean and variance, tends towards a Gaussian distribution, **irrespective of the distribution function of the random variable**.*\n",
    "To be more explicit, if we draw a large number of independent random samples from some unknown distribution and add them all up, then repeat this entire process many times, the distribution of sums will be Gaussian.\n",
    "\n",
    "If you think about it, this is quite amazing; you start with an almost arbitrary distribution defined by any number of parameters, and just by adding samples, end up with a symmetric distribution defined by just two parameters! \n",
    "\n",
    "Why is this useful?\n",
    "1. **It applies to the mean**.\n",
    "Note that the procedure for calculating the sample mean $\\bar{x}$ involves summing independent random variables.\n",
    "$$\\bar{x} = \\frac{1}{N} \\sum_{i=1}^N x_i ,$$\n",
    "Therefore, if we perform multiple, independent evaluations of the mean, the resulting distribution of means will be a Gaussian.\n",
    "2. The resulting Gaussian distribution will have the same mean as the parent distribution, but **smaller variance**.\n",
    "In fact, the variance will be smaller by a factor of $N$.\n",
    "3. **It's easy to assign confidence levels to Gaussian distributions**. For example, one standard deviation from the mean represents a 68% confidence level, whereas two represents 95%.\n",
    "\n",
    "This notebook is intended to convince you that the CLT *really does work!*\n",
    "We're going to draw samples from a variety of distributions, and see that in all cases the distribution of means is a Gaussian.\n",
    "\n",
    "### 1. Draw samples from any old probability distribution"
   ]
  },
  {
   "cell_type": "code",
   "execution_count": 2,
   "metadata": {},
   "outputs": [],
   "source": [
    "import numpy as np\n",
    "import matplotlib.pyplot as plt\n",
    "from scipy.optimize import curve_fit\n",
    "\n",
    "## Choose from built-in numpy.random distributions to sample from\n",
    "from numpy.random import *\n",
    "\n",
    "dist = uniform # ([low, high, size])\n",
    "#dist = triangular # (left, mode, height [, size])\n",
    "#dist = normal # ([loc, scale, size])\n",
    "#dist = power # (a [, size])\n",
    "#dist = exponential # ([scale, size])\n",
    "\n",
    "## Or define your own distribution, e.g.\n",
    "#def dist(size):\n",
    "#    x = uniform(0, 1, size)\n",
    "#    return x * np.exp(-x)"
   ]
  },
  {
   "cell_type": "code",
   "execution_count": 3,
   "metadata": {},
   "outputs": [
    {
     "data": {
      "image/png": "[encoded data removed]",
      "text/plain": [
       "<Figure size 432x288 with 1 Axes>"
      ]
     },
     "metadata": {},
     "output_type": "display_data"
    },
    {
     "name": "stdout",
     "output_type": "stream",
     "text": [
      "Mean: 6.002153932365033e-06\n",
      "Standard deviation: 0.577607407873205\n"
     ]
    }
   ],
   "source": [
    "## Total number of samples we wish to draw\n",
    "N = 100000\n",
    "\n",
    "## Specify a list of arguments for the distribution function selected above\n",
    "args = [-1, 1, N]\n",
    "\n",
    "## Draw 'size' samples from the distribution 'dist'\n",
    "samples = dist(*args)\n",
    "\n",
    "## Plot the distribution of samples we've just drawn\n",
    "plt.figure(\"raw\")\n",
    "plt.title(\"Raw samples\")\n",
    "plt.xlabel(\"Variable 'x'\")\n",
    "plt.ylabel(\"Occurrence\")\n",
    "plt.hist(samples, bins=100)\n",
    "\n",
    "## This should resemble the underlying distribution\n",
    "plt.show()\n",
    "\n",
    "## Print the mean and standard deviation of this distribution\n",
    "print \"Mean:\", samples.mean()\n",
    "print \"Standard deviation:\", samples.std()"
   ]
  },
  {
   "cell_type": "markdown",
   "metadata": {},
   "source": [
    "### 2. Evaluate the mean\n",
    "\n",
    "For the CLT to apply, we need to generate statistics by summing samples - the mean will do nicely.\n",
    "Let's split our `N` samples into `n` chunks of `m` samples, and take the mean of each chunk.\n",
    "This should give us `n` data points which, if the CLT applies, should be normally distributed.\n",
    "\n",
    "#### Problem 1\n",
    "The uncertainty on the sample mean is given by the *standard error*\n",
    "$$\\alpha = \\frac{\\sigma_{N-1}}{\\sqrt{n}} $$\n",
    "where $\\sigma_{N-1}$ is the standard deviation of our raw samples (not means), and $n$ = `n` = the number of samples used to calculate each mean.\n",
    "This formula appears to imply that our lowest uncertainty on the mean will be when we take $n = N$ and average over all samples.\n",
    "* Why is this not the case for this experiment?"
   ]
  },
  {
   "cell_type": "code",
   "execution_count": 4,
   "metadata": {},
   "outputs": [
    {
     "data": {
      "image/png": "[encoded data removed]",
      "text/plain": [
       "<Figure size 432x288 with 1 Axes>"
      ]
     },
     "metadata": {},
     "output_type": "display_data"
    },
    {
     "name": "stdout",
     "output_type": "stream",
     "text": [
      "Standard error: 0.04084301149707272\n"
     ]
    }
   ],
   "source": [
    "## Split data into equal-sized chunks, so we can take the mean of each chunk\n",
    "m = 500 # number of chunks - must a factor of N\n",
    "n = N / m # samples per chunk\n",
    "\n",
    "## Reshape the samples array so we can average over each column\n",
    "samples_nm = samples.reshape((n, m))\n",
    "\n",
    "## Take the mean of every 'm' samples\n",
    "mean = samples_nm.mean(axis=0)\n",
    "\n",
    "## Plot the distribution of means\n",
    "plt.figure(\"mean\")\n",
    "plt.title(\"Mean of %d samples\" %n)\n",
    "plt.xlabel(\"Mean\")\n",
    "plt.ylabel(\"Occurrence\")\n",
    "plt.hist(mean, bins=30)\n",
    "\n",
    "## This should resemble a Gaussian\n",
    "plt.show()\n",
    "\n",
    "## Print an estimate for the standard error based on the formula above\n",
    "print \"Standard error:\", samples.std() / np.sqrt(n)"
   ]
  },
  {
   "cell_type": "markdown",
   "metadata": {},
   "source": [
    "### 3. Check that a Gaussian fits the resulting distribution\n",
    "\n",
    "Let's try fitting a Gaussian curve to our distribution. The important thing to note is an absence of structure in the residuals, indicating that the Gaussian is a good fit.\n",
    "\n",
    "#### Problem 2\n",
    "Another name for the standard error is the *standard deviation of the mean*.\n",
    "We calculate this value below, by fitting a Gaussian to the distribution of means.\n",
    "\n",
    "* By varying `n` and applying the formula for the standard error, check that it agrees with the standard deviation of the mean."
   ]
  },
  {
   "cell_type": "code",
   "execution_count": 5,
   "metadata": {},
   "outputs": [
    {
     "data": {
      "image/png": "[encoded data removed]",
      "text/plain": [
       "<Figure size 432x288 with 1 Axes>"
      ]
     },
     "metadata": {},
     "output_type": "display_data"
    },
    {
     "name": "stdout",
     "output_type": "stream",
     "text": [
      "Mean: -0.0018570689715466271\n",
      "Standard deviation: 0.04117203475708241\n"
     ]
    }
   ],
   "source": [
    "## Define a Gaussian function, to be used by scipy for curve fitting\n",
    "def gaussian(x, *p):\n",
    "    A, mu, sigma = p # I ought to constrain A to be 1\n",
    "    return A*np.exp(-(x-mu)**2/(2.*sigma**2))\n",
    "\n",
    "## An initial guess for the parameters 'p'\n",
    "p0 = [1., samples.mean(), samples.std()]\n",
    "\n",
    "## Get histogram of means, and bin edges\n",
    "bins = 30\n",
    "hist, bin_edges = np.histogram(mean, bins)\n",
    "\n",
    "## Normalise histogram to obtain probability distribution\n",
    "hist_sum = np.sum(hist)\n",
    "hist_norm = [float(h)/hist_sum for h in hist]\n",
    "\n",
    "## Convert bin edges to bin centers\n",
    "bin_width = bin_edges[1]-bin_edges[0]\n",
    "bin_centers = bin_edges[:-1] + bin_width/2.0\n",
    "\n",
    "## Fit the Gaussian function to our mean data using scipy\n",
    "popt, pcov = curve_fit(gaussian, bin_centers, hist_norm, p0=p0)\n",
    "fit = gaussian(bin_centers, *popt)\n",
    "\n",
    "## Plot the distribution of means with the Gaussian fit\n",
    "plt.figure(\"fit\")\n",
    "plt.title(\"Mean of %d samples\" %n)\n",
    "plt.xlabel(\"Mean\")\n",
    "plt.ylabel(\"Probability\")\n",
    "plt.bar(bin_centers, height=hist_norm, width=bin_width, label=\"Data\")\n",
    "plt.plot(bin_centers, fit, 'r', label=\"Gaussian fit\")\n",
    "plt.legend()\n",
    "\n",
    "## This should show that the histogram of means can be fit by a Gaussian\n",
    "plt.show()\n",
    "\n",
    "## Print the fitted mean and standard deviation\n",
    "print \"Mean:\", popt[1]\n",
    "print \"Standard deviation:\", abs(popt[2])"
   ]
  },
  {
   "cell_type": "code",
   "execution_count": 7,
   "metadata": {},
   "outputs": [
    {
     "data": {
      "image/png": "[encoded data removed]",
      "text/plain": [
       "<Figure size 432x288 with 1 Axes>"
      ]
     },
     "metadata": {},
     "output_type": "display_data"
    },
    {
     "name": "stdout",
     "output_type": "stream",
     "text": [
      "Number of data points above the fitted line: 16\n",
      "Number of data points below the fitted line: 14\n"
     ]
    }
   ],
   "source": [
    "## Let's check that the residuals don't show any structure\n",
    "residuals = hist_norm - fit\n",
    "\n",
    "## This is a very rough way of \"normalising\" the residuals, where I (wrongly) assume that the\n",
    "## uncertainty in each bin is proportional to the square root of the counts for that bin\n",
    "normalisation = np.maximum( np.ones(len(residuals)), np.sqrt(hist) ) # can't divide by 0\n",
    "residuals = residuals / normalisation\n",
    "\n",
    "plt.figure(\"res\")\n",
    "plt.title(\"Residuals\")\n",
    "plt.xlabel(\"Mean\")\n",
    "plt.ylabel(\"Normalised residuals\")\n",
    "plt.plot(bin_centers, residuals, 'bo', label=\"Data\")\n",
    "plt.plot(bin_centers, np.zeros(bins), 'r', label=\"Gaussian fit\")\n",
    "plt.legend()\n",
    "\n",
    "plt.show()\n",
    "\n",
    "print \"Number of data points above the fitted line:\", (residuals > 0).sum()\n",
    "print \"Number of data points below the fitted line:\", (residuals < 0).sum()"
   ]
  }
 ],
 "metadata": {
  "kernelspec": {
   "display_name": "Python 2",
   "language": "python",
   "name": "python2"
  },
  "language_info": {
   "codemirror_mode": {
    "name": "ipython",
    "version": 2
   },
   "file_extension": ".py",
   "mimetype": "text/x-python",
   "name": "python",
   "nbconvert_exporter": "python",
   "pygments_lexer": "ipython2",
   "version": "2.7.12"
  }
 },
 "nbformat": 4,
 "nbformat_minor": 2
}
